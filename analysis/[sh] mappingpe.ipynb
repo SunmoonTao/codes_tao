{
 "cells": [
  {
   "cell_type": "markdown",
   "metadata": {},
   "source": [
    "https://github.com/merenlab/illumina-utils"
   ]
  },
  {
   "cell_type": "code",
   "execution_count": 1,
   "metadata": {},
   "outputs": [
    {
     "name": "stdout",
     "output_type": "stream",
     "text": [
      "/Users/ltao/Projects/scigt/exp/190418/analysis\n"
     ]
    }
   ],
   "source": [
    "pwd"
   ]
  },
  {
   "cell_type": "code",
   "execution_count": 2,
   "metadata": {},
   "outputs": [],
   "source": [
    "cd ../fastqs"
   ]
  },
  {
   "cell_type": "code",
   "execution_count": 11,
   "metadata": {},
   "outputs": [],
   "source": [
    "### Setting Paths\n",
    "\n",
    "Input_DIR=/Users/ltao/Projects/scigt/exp/190418/fastqs\n",
    "\n",
    "# pcdna=/Users/ltao/Projects/hht/design/pcdna3.fasta\n",
    "hg19=/Users/ltao/ref/human/human_g1k_v37.fasta"
   ]
  },
  {
   "cell_type": "code",
   "execution_count": 12,
   "metadata": {},
   "outputs": [
    {
     "name": "stdout",
     "output_type": "stream",
     "text": [
      "1_S1_L001_R1_001.fastq\t2_S2_L001_R1_001.fastq\n",
      "1_S1_L001_R2_001.fastq\t2_S2_L001_R2_001.fastq\n"
     ]
    }
   ],
   "source": [
    "ls"
   ]
  },
  {
   "cell_type": "code",
   "execution_count": 14,
   "metadata": {},
   "outputs": [],
   "source": [
    "for item in `ls ./*/*.fastq`\n",
    "do\n",
    "    mv $item  ./\n",
    "done\n"
   ]
  },
  {
   "cell_type": "code",
   "execution_count": 13,
   "metadata": {},
   "outputs": [
    {
     "name": "stdout",
     "output_type": "stream",
     "text": [
      "/Users/ltao/Projects/scigt/exp/190418/fastqs/1_S1_L001_R1_001.fastq\n",
      "/Users/ltao/Projects/scigt/exp/190418/fastqs/1_S1_L001_R2_001.fastq\n",
      "/Users/ltao/Projects/scigt/exp/190418/fastqs/2_S2_L001_R1_001.fastq\n",
      "/Users/ltao/Projects/scigt/exp/190418/fastqs/2_S2_L001_R2_001.fastq\n"
     ]
    }
   ],
   "source": [
    "ls $Input_DIR/*.fastq"
   ]
  },
  {
   "cell_type": "code",
   "execution_count": 14,
   "metadata": {},
   "outputs": [
    {
     "name": "stdout",
     "output_type": "stream",
     "text": [
      "/Users/ltao/Projects/scigt/exp/190418/fastqs/1_S1_L001_R1_001.fastq /Users/ltao/Projects/scigt/exp/190418/fastqs/1_S1_L001_R2_001.fastq\n",
      "1_S1_L001_R1_001.fastq\n",
      "[M::bwa_idx_load_from_disk] read 0 ALT contigs\n",
      "[M::process] read 62962 sequences (9246203 bp)...\n",
      "[M::mem_pestat] # candidate unique pairs for (FF, FR, RF, RR): (2, 5511, 1, 0)\n",
      "[M::mem_pestat] skip orientation FF as there are not enough pairs\n",
      "[M::mem_pestat] analyzing insert size distribution for orientation FR...\n",
      "[M::mem_pestat] (25, 50, 75) percentile: (140, 240, 346)\n",
      "[M::mem_pestat] low and high boundaries for computing mean and std.dev: (1, 758)\n",
      "[M::mem_pestat] mean and std.dev: (258.19, 146.81)\n",
      "[M::mem_pestat] low and high boundaries for proper pairs: (1, 964)\n",
      "[M::mem_pestat] skip orientation RF as there are not enough pairs\n",
      "[M::mem_pestat] skip orientation RR as there are not enough pairs\n",
      "[M::mem_process_seqs] Processed 62962 reads in 65.587 CPU sec, 65.742 real sec\n",
      "[main] Version: 0.7.17-r1188\n",
      "[main] CMD: bwa mem /Users/ltao/ref/human/human_g1k_v37.fasta /Users/ltao/Projects/scigt/exp/190418/fastqs/1_S1_L001_R1_001.fastq /Users/ltao/Projects/scigt/exp/190418/fastqs/1_S1_L001_R2_001.fastq\n",
      "[main] Real time: 71.840 sec; CPU: 70.337 sec\n",
      "next\n",
      "/Users/ltao/Projects/scigt/exp/190418/fastqs/2_S2_L001_R1_001.fastq /Users/ltao/Projects/scigt/exp/190418/fastqs/2_S2_L001_R2_001.fastq\n",
      "2_S2_L001_R1_001.fastq\n",
      "[M::bwa_idx_load_from_disk] read 0 ALT contigs\n",
      "[M::process] read 70992 sequences (10000189 bp)...\n",
      "[M::process] read 71064 sequences (10000172 bp)...\n",
      "[M::mem_pestat] # candidate unique pairs for (FF, FR, RF, RR): (3, 1703, 0, 0)\n",
      "[M::mem_pestat] skip orientation FF as there are not enough pairs\n",
      "[M::mem_pestat] analyzing insert size distribution for orientation FR...\n",
      "[M::mem_pestat] (25, 50, 75) percentile: (164, 247, 350)\n",
      "[M::mem_pestat] low and high boundaries for computing mean and std.dev: (1, 722)\n",
      "[M::mem_pestat] mean and std.dev: (263.11, 132.22)\n",
      "[M::mem_pestat] low and high boundaries for proper pairs: (1, 908)\n",
      "[M::mem_pestat] skip orientation RF as there are not enough pairs\n",
      "[M::mem_pestat] skip orientation RR as there are not enough pairs\n",
      "[M::mem_process_seqs] Processed 70992 reads in 62.057 CPU sec, 62.070 real sec\n",
      "[M::process] read 71368 sequences (10000214 bp)...\n",
      "[M::mem_pestat] # candidate unique pairs for (FF, FR, RF, RR): (1, 2059, 0, 1)\n",
      "[M::mem_pestat] skip orientation FF as there are not enough pairs\n",
      "[M::mem_pestat] analyzing insert size distribution for orientation FR...\n",
      "[M::mem_pestat] (25, 50, 75) percentile: (156, 243, 338)\n",
      "[M::mem_pestat] low and high boundaries for computing mean and std.dev: (1, 702)\n",
      "[M::mem_pestat] mean and std.dev: (255.76, 128.44)\n",
      "[M::mem_pestat] low and high boundaries for proper pairs: (1, 884)\n",
      "[M::mem_pestat] skip orientation RF as there are not enough pairs\n",
      "[M::mem_pestat] skip orientation RR as there are not enough pairs\n",
      "[M::mem_process_seqs] Processed 71064 reads in 56.366 CPU sec, 56.285 real sec\n",
      "[M::process] read 4630 sequences (650704 bp)...\n",
      "[M::mem_pestat] # candidate unique pairs for (FF, FR, RF, RR): (0, 2978, 0, 1)\n",
      "[M::mem_pestat] skip orientation FF as there are not enough pairs\n",
      "[M::mem_pestat] analyzing insert size distribution for orientation FR...\n",
      "[M::mem_pestat] (25, 50, 75) percentile: (161, 246, 337)\n",
      "[M::mem_pestat] low and high boundaries for computing mean and std.dev: (1, 689)\n",
      "[M::mem_pestat] mean and std.dev: (259.82, 129.86)\n",
      "[M::mem_pestat] low and high boundaries for proper pairs: (1, 865)\n",
      "[M::mem_pestat] skip orientation RF as there are not enough pairs\n",
      "[M::mem_pestat] skip orientation RR as there are not enough pairs\n",
      "[M::mem_process_seqs] Processed 71368 reads in 53.699 CPU sec, 53.673 real sec\n",
      "[M::mem_pestat] # candidate unique pairs for (FF, FR, RF, RR): (0, 112, 0, 0)\n",
      "[M::mem_pestat] skip orientation FF as there are not enough pairs\n",
      "[M::mem_pestat] analyzing insert size distribution for orientation FR...\n",
      "[M::mem_pestat] (25, 50, 75) percentile: (165, 236, 332)\n",
      "[M::mem_pestat] low and high boundaries for computing mean and std.dev: (1, 666)\n",
      "[M::mem_pestat] mean and std.dev: (247.85, 118.43)\n",
      "[M::mem_pestat] low and high boundaries for proper pairs: (1, 833)\n",
      "[M::mem_pestat] skip orientation RF as there are not enough pairs\n",
      "[M::mem_pestat] skip orientation RR as there are not enough pairs\n",
      "[M::mem_process_seqs] Processed 4630 reads in 3.453 CPU sec, 3.382 real sec\n",
      "[main] Version: 0.7.17-r1188\n",
      "[main] CMD: bwa mem /Users/ltao/ref/human/human_g1k_v37.fasta /Users/ltao/Projects/scigt/exp/190418/fastqs/2_S2_L001_R1_001.fastq /Users/ltao/Projects/scigt/exp/190418/fastqs/2_S2_L001_R2_001.fastq\n",
      "[main] Real time: 179.912 sec; CPU: 179.528 sec\n",
      "next\n"
     ]
    }
   ],
   "source": [
    "# bwe pe mapping\n",
    "while read a b; do\n",
    "\techo $a $b\n",
    "    TMP_NAME=`basename $a`\n",
    "\techo $TMP_NAME\n",
    "    bwa mem $hg19 $a $b | samtools view -bS - > $Input_DIR/$TMP_NAME.bam\n",
    "    echo 'next'    \n",
    "done < <(echo `ls $Input_DIR/*.fastq` | xargs -n2)"
   ]
  },
  {
   "cell_type": "code",
   "execution_count": 7,
   "metadata": {},
   "outputs": [
    {
     "name": "stdout",
     "output_type": "stream",
     "text": [
      "1_S1_L001_R1_001.fastq\t2_S2_L001_R1_001.fastq\n",
      "1_S1_L001_R2_001.fastq\t2_S2_L001_R2_001.fastq\n"
     ]
    }
   ],
   "source": [
    "ls"
   ]
  },
  {
   "cell_type": "code",
   "execution_count": 15,
   "metadata": {},
   "outputs": [
    {
     "name": "stdout",
     "output_type": "stream",
     "text": [
      "1_S1_L001_R1_001.fastq\n",
      "sorting\n",
      "1_S1_L001_R1_001.fastq\n",
      "indexing\n",
      "1_S1_L001_R1_001.fastq\n",
      "next\n",
      "2_S2_L001_R1_001.fastq\n",
      "sorting\n",
      "2_S2_L001_R1_001.fastq\n",
      "indexing\n",
      "2_S2_L001_R1_001.fastq\n",
      "next\n"
     ]
    }
   ],
   "source": [
    "## Sort and index BAM by samtools\n",
    "for BAM  in `ls  $Input_DIR/*.bam`\n",
    "do\n",
    "    TMP_NAME=`basename $BAM`\n",
    "# \techo $TMP_NAME\n",
    "\tSUB_NAME=`echo $TMP_NAME |awk -F '.bam' '{print $1}'`\n",
    "\techo $SUB_NAME\n",
    "    mkdir -p $Input_DIR/tmp\n",
    "    echo 'sorting' \n",
    "    echo $SUB_NAME    \n",
    "    samtools sort -T $Input_DIR/tmp/aln.sorted -o $SUB_NAME.sorted.bam $BAM\n",
    "    echo 'indexing'\n",
    "    echo $SUB_NAME    \n",
    "    samtools index $SUB_NAME.sorted.bam\n",
    "    echo 'next'    \n",
    "done\n",
    "\n"
   ]
  }
 ],
 "metadata": {
  "kernelspec": {
   "display_name": "Bash",
   "language": "bash",
   "name": "bash"
  },
  "language_info": {
   "codemirror_mode": "shell",
   "file_extension": ".sh",
   "mimetype": "text/x-sh",
   "name": "bash"
  }
 },
 "nbformat": 4,
 "nbformat_minor": 2
}
