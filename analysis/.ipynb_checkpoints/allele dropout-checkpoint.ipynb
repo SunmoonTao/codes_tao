{
 "cells": [
  {
   "cell_type": "code",
   "execution_count": 6,
   "metadata": {},
   "outputs": [],
   "source": [
    "from Bio.Seq import Seq\n",
    "from Bio.Alphabet import generic_dna,generic_rna,generic_protein\n",
    "import primer3\n",
    "from Bio import SeqIO\n",
    "from Bio.Seq import Seq\n",
    "from Bio import Entrez\n",
    "import csv\n",
    "import pandas as pd\n",
    "from collections import defaultdict\n",
    "from collections import Counter\n",
    "import matplotlib.pyplot as plt\n",
    "import csv\n",
    "from Bio.Seq import Seq\n",
    "import pandas as pd\n",
    "import os\n"
   ]
  },
  {
   "cell_type": "code",
   "execution_count": 2,
   "metadata": {},
   "outputs": [
    {
     "name": "stdout",
     "output_type": "stream",
     "text": [
      "/Users/ltao/Projects/Data/miseq/d54nd\n"
     ]
    }
   ],
   "source": [
    "cd /Users/ltao/Projects/Data/miseq/d54nd/"
   ]
  },
  {
   "cell_type": "code",
   "execution_count": 5,
   "metadata": {},
   "outputs": [
    {
     "name": "stdout",
     "output_type": "stream",
     "text": [
      "/Users/ltao/Projects/Data/miseq/d54nd/fastqs\n"
     ]
    }
   ],
   "source": [
    "cd fastqs"
   ]
  },
  {
   "cell_type": "code",
   "execution_count": 11,
   "metadata": {},
   "outputs": [
    {
     "data": {
      "text/plain": [
       "['snc_i7_F7_i5_F3_MERGED',\n",
       " 'mecom_i7_D10_i5_D10_MERGED',\n",
       " 'mecom_i7_B3_i5_B9_MERGED',\n",
       " 'mecom_i7_A7_i5_A10_MERGED',\n",
       " 'scp_i7_A1_i5_A10_MERGED',\n",
       " 'mecom_i7_F9_i5_F10_MERGED',\n",
       " 'mecom_i7_B4_i5_B9_MERGED',\n",
       " 'mecom_i7_H8_i5_H10_MERGED',\n",
       " 'sc_i7_D2_i5_D4_MERGED',\n",
       " 'snc_i7_D6_i5_D2_MERGED',\n",
       " 'sc_i7_B7_i5_B5_MERGED',\n",
       " 'snc_i7_D1_i5_D2_MERGED',\n",
       " 'sc_i7_G7_i5_G5_MERGED',\n",
       " 'snc_i7_A1_i5_A2_MERGED',\n",
       " 'mecom_i7_H5_i5_H9_MERGED',\n",
       " 'mecom_i7_E8_i5_E10_MERGED',\n",
       " 'mecom_i7_H2_i5_H9_MERGED',\n",
       " 'sc_i7_A2_i5_A4_MERGED',\n",
       " 'snc_i7_C7_i5_C3_MERGED',\n",
       " 'sc_i7_E6_i5_E4_MERGED',\n",
       " 'mecom_i7_G3_i5_G9_MERGED',\n",
       " 'mecom_i7_G10_i5_G10_MERGED',\n",
       " 'sc_i7_E1_i5_E4_MERGED',\n",
       " 'mecom_i7_G4_i5_G9_MERGED',\n",
       " 'mecom_i7_H12_i5_H10_MERGED',\n",
       " 'scp_i7_C3_i5_C10_MERGED',\n",
       " 'snc_i7_E2_i5_E2_MERGED',\n",
       " 'scp_i7_B4_i5_B10_MERGED',\n",
       " 'sc_i7_D3_i5_D4_MERGED',\n",
       " 'mecom_i7_A10_i5_A10_MERGED',\n",
       " 'mecom_i7_F6_i5_F9_MERGED',\n",
       " 'sc_i7_D4_i5_D4_MERGED',\n",
       " 'mecom_i7_F1_i5_F9_MERGED',\n",
       " 'scp_i7_C4_i5_C10_MERGED',\n",
       " 'scp_i7_B3_i5_B10_MERGED',\n",
       " 'mecom_i7_H11_i5_H10_MERGED',\n",
       " 'mecom_i7_B5_i5_B9_MERGED',\n",
       " 'mecom_i7_B2_i5_B9_MERGED',\n",
       " 'mecom_i7_D8_i5_D10_MERGED',\n",
       " 'mecom_i7_G5_i5_G9_MERGED',\n",
       " 'mecom_i7_G2_i5_G9_MERGED',\n",
       " 'scp_i7_A2_i5_A10_MERGED',\n",
       " 'sc_i7_H7_i5_H5_MERGED',\n",
       " 'snc_i7_E3_i5_E2_MERGED',\n",
       " 'snc_i7_E4_i5_E2_MERGED',\n",
       " 'sc_i7_A3_i5_A4_MERGED',\n",
       " 'mecom_i7_G9_i5_G10_MERGED',\n",
       " 'mecom_i7_B10_i5_B10_MERGED',\n",
       " 'mecom_i7_C6_i5_C9_MERGED',\n",
       " 'mecom_i7_H3_i5_H9_MERGED',\n",
       " 'sc_i7_A4_i5_A4_MERGED',\n",
       " 'mecom_i7_C1_i5_C9_MERGED',\n",
       " 'mecom_i7_H4_i5_H9_MERGED',\n",
       " 'mecom_i7_E6_i5_E9_MERGED',\n",
       " 'sc_i7_G3_i5_G4_MERGED',\n",
       " 'mecom_i7_E1_i5_E9_MERGED',\n",
       " 'sc_i7_G4_i5_G4_MERGED',\n",
       " 'mecom_i7_A5_i5_A9_MERGED',\n",
       " 'mecom_i7_A2_i5_A9_MERGED',\n",
       " 'sc_i7_H2_i5_H4_MERGED',\n",
       " 'mecom_i7_G7_i5_G10_MERGED',\n",
       " 'snc_i7_C3_i5_C2_MERGED',\n",
       " 'snc_i7_H1_i5_H2_MERGED',\n",
       " 'snc_i7_C4_i5_C2_MERGED',\n",
       " 'snc_i7_F3_i5_F2_MERGED',\n",
       " 'snc_i7_F4_i5_F2_MERGED',\n",
       " 'mecom_i7_D5_i5_D9_MERGED',\n",
       " 'scp_i7_D4_i5_D10_MERGED',\n",
       " 'mecom_i7_D2_i5_D9_MERGED',\n",
       " 'sc_i7_B3_i5_B4_MERGED',\n",
       " 'mecom_i7_C10_i5_C10_MERGED',\n",
       " 'sc_i7_B4_i5_B4_MERGED',\n",
       " 'mecom_i7_C8_i5_C10_MERGED',\n",
       " 'sc_i7_H3_i5_H4_MERGED',\n",
       " 'snc_i7_E7_i5_E3_MERGED',\n",
       " 'mecom_i7_A3_i5_A9_MERGED',\n",
       " 'mecom_i7_E10_i5_E10_MERGED',\n",
       " 'sc_i7_H4_i5_H4_MERGED',\n",
       " 'mecom_i7_A4_i5_A9_MERGED',\n",
       " 'sc_i7_C1_i5_C4_MERGED',\n",
       " 'mecom_i7_B8_i5_B10_MERGED',\n",
       " 'snc_i7_C2_i5_C2_MERGED',\n",
       " 'sc_i7_A7_i5_A5_MERGED',\n",
       " 'snc_i7_G1_i5_G2_MERGED',\n",
       " 'scp_i7_D3_i5_D10_MERGED',\n",
       " 'sc_i7_G2_i5_G4_MERGED',\n",
       " 'sc_i7_B2_i5_B4_MERGED',\n",
       " 'sc_i7_D7_i5_D5_MERGED',\n",
       " 'mecom_i7_A9_i5_A10_MERGED',\n",
       " 'snc_i7_B1_i5_B2_MERGED',\n",
       " 'mecom_i7_F7_i5_F10_MERGED',\n",
       " 'snc_i7_F5_i5_F2_MERGED',\n",
       " 'snc_i7_F2_i5_F2_MERGED',\n",
       " 'mecom_i7_F10_i5_F10_MERGED',\n",
       " 'mecom_i7_D3_i5_D9_MERGED',\n",
       " 'mecom_i7_D4_i5_D9_MERGED',\n",
       " 'sc_i7_F1_i5_F4_MERGED',\n",
       " 'snc_i7_H2_i5_H2_MERGED',\n",
       " 'scp_i7_D2_i5_D10_MERGED',\n",
       " 'mecom_i7_A6_i5_A9_MERGED',\n",
       " 'sc_i7_C3_i5_C4_MERGED',\n",
       " 'mecom_i7_C12_i5_C10_MERGED',\n",
       " 'mecom_i7_A1_i5_A9_MERGED',\n",
       " 'sc_i7_C4_i5_C4_MERGED',\n",
       " 'sc_i7_H1_i5_H4_MERGED',\n",
       " 'mecom_i7_E5_i5_E9_MERGED',\n",
       " 'mecom_i7_E2_i5_E9_MERGED',\n",
       " 'mecom_i7_E7_i5_E10_MERGED',\n",
       " 'mecom_i7_B9_i5_B10_MERGED',\n",
       " 'snc_i7_G3_i5_G2_MERGED',\n",
       " 'snc_i7_G4_i5_G2_MERGED',\n",
       " 'mecom_i7_E11_i5_E10_MERGED',\n",
       " 'snc_i7_B3_i5_B2_MERGED',\n",
       " 'snc_i7_B4_i5_B2_MERGED',\n",
       " 'mecom_i7_F11_i5_F10_MERGED',\n",
       " 'mecom_i7_D6_i5_D9_MERGED',\n",
       " 'mecom_i7_A8_i5_A10_MERGED',\n",
       " 'sc_i7_F3_i5_F4_MERGED',\n",
       " 'mecom_i7_D1_i5_D9_MERGED',\n",
       " 'sc_i7_F4_i5_F4_MERGED',\n",
       " 'mecom_i7_F12_i5_F10_MERGED',\n",
       " 'snc_i7_A7_i5_A3_MERGED',\n",
       " 'mecom_i7_E3_i5_E9_MERGED',\n",
       " 'mecom_i7_E4_i5_E9_MERGED',\n",
       " 'sc_i7_G1_i5_G4_MERGED',\n",
       " 'snc_i7_G2_i5_G2_MERGED',\n",
       " 'snc_i7_C6_i5_C2_MERGED',\n",
       " 'sc_i7_E7_i5_E5_MERGED',\n",
       " 'snc_i7_H3_i5_H2_MERGED',\n",
       " 'snc_i7_C1_i5_C2_MERGED',\n",
       " 'snc_i7_H4_i5_H2_MERGED',\n",
       " 'sc_i7_C2_i5_C4_MERGED',\n",
       " 'mecom_i7_C9_i5_C10_MERGED',\n",
       " 'scp_i7_D1_i5_D10_MERGED',\n",
       " 'mecom_i7_D7_i5_D10_MERGED',\n",
       " 'sc_i7_F2_i5_F4_MERGED',\n",
       " 'mecom_i7_C11_i5_C10_MERGED',\n",
       " 'snc_i7_F1_i5_F2_MERGED',\n",
       " 'snc_i7_B2_i5_B2_MERGED',\n",
       " 'snc_i7_D7_i5_D3_MERGED',\n",
       " 'mecom_i7_E12_i5_E10_MERGED',\n",
       " 'sc_i7_B6_i5_B4_MERGED',\n",
       " 'sc_i7_B1_i5_B4_MERGED',\n",
       " 'mecom_i7_C7_i5_C10_MERGED',\n",
       " 'scp_i7_C1_i5_C10_MERGED',\n",
       " 'mecom_i7_D9_i5_D10_MERGED',\n",
       " 'snc_i7_D2_i5_D2_MERGED',\n",
       " 'snc_i7_B7_i5_B3_MERGED',\n",
       " 'mecom_i7_G12_i5_G10_MERGED',\n",
       " 'mecom_i7_F3_i5_F9_MERGED',\n",
       " 'mecom_i7_H10_i5_H10_MERGED',\n",
       " 'sc_i7_D1_i5_D4_MERGED',\n",
       " 'mecom_i7_F4_i5_F9_MERGED',\n",
       " 'scp_i7_B2_i5_B10_MERGED',\n",
       " 'sc_i7_F7_i5_F5_MERGED',\n",
       " 'mecom_i7_A11_i5_A10_MERGED',\n",
       " 'sc_i7_C7_i5_C5_MERGED',\n",
       " 'mecom_i7_G8_i5_G10_MERGED',\n",
       " 'mecom_i7_B11_i5_B10_MERGED',\n",
       " 'sc_i7_E2_i5_E4_MERGED',\n",
       " 'snc_i7_G7_i5_G3_MERGED',\n",
       " 'mecom_i7_H6_i5_H9_MERGED',\n",
       " 'mecom_i7_D12_i5_D10_MERGED',\n",
       " 'mecom_i7_C3_i5_C9_MERGED',\n",
       " 'mecom_i7_H1_i5_H9_MERGED',\n",
       " 'scp_i7_A3_i5_A10_MERGED',\n",
       " 'sc_i7_A1_i5_A4_MERGED',\n",
       " 'mecom_i7_C4_i5_C9_MERGED',\n",
       " 'snc_i7_A2_i5_A2_MERGED',\n",
       " 'mecom_i7_B6_i5_B9_MERGED',\n",
       " 'mecom_i7_B12_i5_B10_MERGED',\n",
       " 'scp_i7_A4_i5_A10_MERGED',\n",
       " 'mecom_i7_B1_i5_B9_MERGED',\n",
       " 'mecom_i7_H9_i5_H10_MERGED',\n",
       " 'mecom_i7_F8_i5_F10_MERGED',\n",
       " 'snc_i7_D3_i5_D2_MERGED',\n",
       " 'snc_i7_D4_i5_D2_MERGED',\n",
       " 'mecom_i7_D11_i5_D10_MERGED',\n",
       " 'mecom_i7_F5_i5_F9_MERGED',\n",
       " 'mecom_i7_F2_i5_F9_MERGED',\n",
       " 'mecom_i7_C5_i5_C9_MERGED',\n",
       " 'mecom_i7_C2_i5_C9_MERGED',\n",
       " 'scp_i7_C2_i5_C10_MERGED',\n",
       " 'snc_i7_A3_i5_A2_MERGED',\n",
       " 'mecom_i7_G11_i5_G10_MERGED',\n",
       " 'snc_i7_A4_i5_A2_MERGED',\n",
       " 'mecom_i7_E9_i5_E10_MERGED',\n",
       " 'scp_i7_B1_i5_B10_MERGED',\n",
       " 'mecom_i7_B7_i5_B10_MERGED',\n",
       " 'sc_i7_E3_i5_E4_MERGED',\n",
       " 'mecom_i7_G6_i5_G9_MERGED',\n",
       " 'snc_i7_H7_i5_H3_MERGED',\n",
       " 'mecom_i7_A12_i5_A10_MERGED',\n",
       " 'sc_i7_E4_i5_E4_MERGED',\n",
       " 'mecom_i7_G1_i5_G9_MERGED']"
      ]
     },
     "execution_count": 11,
     "metadata": {},
     "output_type": "execute_result"
    }
   ],
   "source": [
    ">>> path = '/Users/ltao/Projects/Data/miseq/d54nd/fastqs/'\n",
    ">>> mfasta = [f for f in os.listdir(path) if (f.endswith('_MERGED') )]\n",
    ">>> mfasta"
   ]
  },
  {
   "cell_type": "code",
   "execution_count": 16,
   "metadata": {},
   "outputs": [],
   "source": [
    "def count_amplicon(merged_fasta,panel='/Users/ltao/Projects/gt/exp/adr/HCC38_BREAST Mutations.xlsx',sheet='Sheet4'):\n",
    "    panel=pd.read_excel(panel, sheet_name= sheet)\n",
    "    panel_dict = panel.to_dict('split')\n",
    "    records = list(SeqIO.parse(merged_fasta, \"fasta\"))\n",
    "    s=list()\n",
    "\n",
    "    for rcd in records:\n",
    "        s.append((str(rcd.seq.lower()),rcd.id))\n",
    "    \n",
    "    unique_reads = defaultdict(list)\n",
    "    for k, v in s:\n",
    "        unique_reads[k].append(v)\n",
    "    rst=dict()\n",
    "    rst['total_reads']=len(records)\n",
    "    for (k,seq) in panel_dict['data']:\n",
    "#     print (k,seq)\n",
    "        rst[k]=len(unique_reads[seq])\n",
    "    return rst\n",
    "#     return unique_reads"
   ]
  },
  {
   "cell_type": "code",
   "execution_count": 14,
   "metadata": {},
   "outputs": [],
   "source": [
    "def rank_amplicon(merged_fasta):\n",
    "#     panel=pd.read_excel(panel, sheet_name= sheet)\n",
    "#     panel_dict = panel.to_dict('split')\n",
    "    records = list(SeqIO.parse(merged_fasta, \"fasta\"))\n",
    "    s=list()\n",
    "\n",
    "    for rcd in records:\n",
    "        s.append((str(rcd.seq.lower()),rcd.id))\n",
    "    \n",
    "    unique_reads = defaultdict(list)\n",
    "    for k, v in s:\n",
    "        unique_reads[k].append(v)\n",
    "    rst=dict()\n",
    "    rst['total_reads']=len(records)\n",
    "#     for (k,seq) in panel_dict['data']:\n",
    "#     print (k,seq)\n",
    "    for k,v in unique_reads.items():\n",
    "        rst[k]=len(v)\n",
    "    return rst\n",
    "#     return unique_reads"
   ]
  },
  {
   "cell_type": "code",
   "execution_count": 15,
   "metadata": {},
   "outputs": [],
   "source": [
    "counts=dict()\n",
    "for mfa in sorted(mfasta, reverse=True):\n",
    "    counts[mfa]=rank_amplicon(mfa)"
   ]
  },
  {
   "cell_type": "code",
   "execution_count": 17,
   "metadata": {},
   "outputs": [],
   "source": [
    "for k in list(counts.keys())[:]:\n",
    "    if counts[k][\"total_reads\"] > 0:\n",
    "#         print (k,k[4],k[10])\n",
    "#         print (k,counts[k][\"total_reads\"])\n",
    "\n",
    "        if k[4] in '1' and k[10] in '23':\n",
    "            print ('sc')\n",
    "            print (k,counts[k])\n",
    "#     tmp=dict()\n",
    "#     for kk,ii in i.items():\n",
    "#         tmp[kk]=len(ii)\n",
    "#     from collections import OrderedDict\n",
    "#     dd = OrderedDict(sorted(tmp.items(), key=lambda x: x[1],reverse=True))\n",
    "#     for seq in list(dd.keys())[:5]:\n",
    "#         print (seq, dd[seq])"
   ]
  },
  {
   "cell_type": "code",
   "execution_count": 26,
   "metadata": {},
   "outputs": [],
   "source": [
    "\n",
    "counts_df=pd.DataFrame.from_dict(counts, orient='index')\n"
   ]
  },
  {
   "cell_type": "code",
   "execution_count": 59,
   "metadata": {},
   "outputs": [
    {
     "data": {
      "text/plain": [
       "[('tggagacaagaataatctacaatcacactcaccactagaactttcacagaagctttgtgaggcatgggcagagggcttccccagcttctgggcctctgcatctgagcttagctgctctgcattagccatttttgagtcttctgttaatgaattacttgttttctcctgagtttggggctg',\n",
       "  22),\n",
       " ('tggggacaagaataatctacaatcacactcaccactagaactttcacagaagctttgtgaggcatgggcagagggcttccccagcttctgggcctctgcatctgagcttagctgctctgcattagccatttttgagtcttctgttaatgaattacttgttttctcctgagtttggggctg',\n",
       "  7),\n",
       " ('gggagacaaaaataatctacaatcacactcaccactagaactttcacagaagctttgtgaggcatgggcagagggcttccccagcttctgggcctctgcatctgagcttagctgctctgcattagccatttttgagtcttctgttaatgaattacttgttttctcctgagtttggggctg',\n",
       "  5),\n",
       " ('tggagacaagaataatctacaatcaccctcaccactagaactttcacagaagctttgtgaggcatgggcagagggcttccccagcttctgggcctctgcatctgagcttagctgctctgcattagccatttttgagtcttctgttaatgaattacttgttttctcctgagtttggggctg',\n",
       "  4),\n",
       " ('tggagacaagaaaaatctacaatcacactcaccactagaactttcacagaagctttgtgaggcatgggcagagggcttccccagcttctgggcctctgcatctgagcttagctgctctgcattagccatttttgagtcttctgttaatgaattacttgttttctcctgagtttggggctg',\n",
       "  4)]"
      ]
     },
     "execution_count": 59,
     "metadata": {},
     "output_type": "execute_result"
    }
   ],
   "source": [
    "bp53=counts[\"i7_F4_i5_F2__MERGED\"]\n",
    "bp53r = list()\n",
    "for k, v in bp53.items():\n",
    "    nk=k[-180:]\n",
    "    bp53r.append(nk)\n",
    "\n",
    "ccc= Counter(bp53r)\n",
    "ccc.most_common(5)"
   ]
  },
  {
   "cell_type": "code",
   "execution_count": 61,
   "metadata": {},
   "outputs": [
    {
     "name": "stdout",
     "output_type": "stream",
     "text": [
      "odict_keys(['would', 'they', 'your'])\n"
     ]
    }
   ],
   "source": [
    "from collections import *\n",
    "\n",
    "class OrderedCounter(Counter, OrderedDict):\n",
    "    pass\n",
    "\n",
    "counterlist = OrderedCounter({'would': 203, 'they': 138, 'your': 134})\n",
    "\n",
    "print( counterlist.keys())"
   ]
  },
  {
   "cell_type": "code",
   "execution_count": 30,
   "metadata": {},
   "outputs": [],
   "source": [
    "counts_df.to_excel(path+'/mecon_adr_counts.xlsx')"
   ]
  },
  {
   "cell_type": "code",
   "execution_count": 5,
   "metadata": {},
   "outputs": [],
   "source": [
    "TRAPPC12_w='tgggtctctgtgggatccaaagcccctgtgggttgtgttgggggacagcagctcctgggctttccccgctaactgccaccgttgcttgtgttacagcgcgttccttcacctcgggcagaataactttgcagaagcccacaggttcttcacagagatcttaaggatggatccaagaaacgcagtggtaagatccccaa'\n",
    "TP53BP1_w='taagcatgcagttctcgccaactttccattccagattataatttaggtggagacaagaataatctacaatcacactcaccactagaactttcacagaagctttgtgaggcatgggcagagggcttccccagcttctgggcctctgcatctgagcttagctgctttgcattagccatttttgagtcttctgttaatgaattacttgttttctcctgagtttggggctg'\n",
    "TRAPPC12_m='tgggtctctgtgggatccaaagcccctgtgggttgtgttgggggacagcagctcctgggctttccccgctaactgccaccgttgcttgtgttacagcgcgttccttcacctcgggcagaataactttgcagaagcccacagtttcttcacagagatcttaaggatggatccaagaaacgcagtggtaagatccccaa'\n",
    "TP53BP1_m='taagcatgcagttctcgccaactttccattccagattataatttaggcggagacaagaataatctacaatcacactcaccactagaactttcacagaagctttgtgaggcatgggcagagggcttccccagcttctgggcctctgcatctgagcttagctgctctgcattagccatttttgagtcttctgttaatgaattacttgttttctcctgagtttggggctg'"
   ]
  },
  {
   "cell_type": "code",
   "execution_count": null,
   "metadata": {},
   "outputs": [],
   "source": [
    "# import gzip\n",
    "# from Bio import SeqIO\n",
    "# import pysam\n",
    "\n",
    "# for file in dirs:\n",
    "#     if \"sorted.bam\"== file[-10:]:\n",
    "#         samfile = pysam.AlignmentFile(file, \"rb\", check_sq=False)\n",
    "#         for read in samfile.fetch('chr1'):\n",
    "#             print (read.get_reference_sequence(),\" \\n\", read.seq, read.cigar)\n",
    "                \n",
    "\n"
   ]
  }
 ],
 "metadata": {
  "kernelspec": {
   "display_name": "Python 3",
   "language": "python",
   "name": "python3"
  },
  "language_info": {
   "codemirror_mode": {
    "name": "ipython",
    "version": 3
   },
   "file_extension": ".py",
   "mimetype": "text/x-python",
   "name": "python",
   "nbconvert_exporter": "python",
   "pygments_lexer": "ipython3",
   "version": "3.6.6"
  }
 },
 "nbformat": 4,
 "nbformat_minor": 2
}
