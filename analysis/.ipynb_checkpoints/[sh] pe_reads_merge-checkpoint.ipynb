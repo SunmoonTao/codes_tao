{
 "cells": [
  {
   "cell_type": "markdown",
   "metadata": {},
   "source": [
    "https://github.com/merenlab/illumina-utils"
   ]
  },
  {
   "cell_type": "code",
   "execution_count": 1,
   "metadata": {},
   "outputs": [
    {
     "name": "stdout",
     "output_type": "stream",
     "text": [
      "/Users/ltao/Projects/glioma/exp/190501/analysis\n"
     ]
    }
   ],
   "source": [
    "pwd"
   ]
  },
  {
   "cell_type": "code",
   "execution_count": 2,
   "metadata": {},
   "outputs": [],
   "source": [
    "cd ../fastqs"
   ]
  },
  {
   "cell_type": "code",
   "execution_count": 3,
   "metadata": {},
   "outputs": [
    {
     "name": "stdout",
     "output_type": "stream",
     "text": [
      "ls: *fastq: No such file or directory\n"
     ]
    },
    {
     "ename": "",
     "evalue": "1",
     "output_type": "error",
     "traceback": []
    }
   ],
   "source": [
    "ls -allh *fastq"
   ]
  },
  {
   "cell_type": "code",
   "execution_count": 5,
   "metadata": {},
   "outputs": [
    {
     "name": "stdout",
     "output_type": "stream",
     "text": [
      "ls: ./*/*/*.fastq: No such file or directory\n"
     ]
    }
   ],
   "source": [
    "## unzip and copy files to fastq folder\n",
    "for item in `ls ./*/*`\n",
    "do\n",
    "    gunzip $item\n",
    "done\n",
    "\n",
    "#copy\n",
    "\n",
    "for item in `ls ./*/*/*.fastq`\n",
    "do\n",
    "    mv $item  ./\n",
    "done\n"
   ]
  },
  {
   "cell_type": "code",
   "execution_count": 4,
   "metadata": {},
   "outputs": [
    {
     "name": "stdout",
     "output_type": "stream",
     "text": [
      "Report .......................................: Read for 114 samples is read\n",
      "Output directory set in configs ..............: /Users/ltao/Projects/glioma/exp/190405/fastqs\n",
      "Prefix for R1 ................................: None\n",
      "Prefix for R2 ................................: None\n",
      "                                                                                [0m\r"
     ]
    }
   ],
   "source": [
    "\n",
    "### generate config file for merge step\n",
    "iu-gen-configs merge_nex.txt"
   ]
  },
  {
   "cell_type": "code",
   "execution_count": 6,
   "metadata": {},
   "outputs": [
    {
     "name": "stdout",
     "output_type": "stream",
     "text": [
      "[Merging 1 of 1] 67% -- (num pairs processed: 1,000) -- merged pairs: 3\n",
      "\n",
      "\n",
      "\n",
      "[Merging 1 of 1] 00% -- (num pairs processed: 11) -- merged pairs: 1\n",
      "\n",
      "\n",
      "[Merging 1 of 1] 00% -- (num pairs processed: 326) -- merged pairs: 1\n",
      "[Merging 1 of 1] 00% -- (num pairs processed: 600) -- merged pairs: 1\n",
      "[Merging 1 of 1] 00% -- (num pairs processed: 57) -- merged pairs: 1\n",
      "[Merging 1 of 1] 179% -- (num pairs processed: 1,000) -- merged pairs: 1\n",
      "[Merging 1 of 1] 00% -- (num pairs processed: 10) -- merged pairs: 1\n",
      "[Merging 1 of 1] 00% -- (num pairs processed: 539) -- merged pairs: 1\n",
      "[Merging 1 of 1] 00% -- (num pairs processed: 111) -- merged pairs: 1\n",
      "\n",
      "\n",
      "\n",
      "\n",
      "[Merging 1 of 1] 00% -- (num pairs processed: 33) -- merged pairs: 1\n",
      "[Merging 1 of 1] 00% -- (num pairs processed: 25) -- merged pairs: 1\n",
      "\n",
      "[Merging 1 of 1] 00% -- (num pairs processed: 220) -- merged pairs: 1\n",
      "[Merging 1 of 1] 00% -- (num pairs processed: 182) -- merged pairs: 1\n",
      "[Merging 1 of 1] 165% -- (num pairs processed: 1,000) -- merged pairs: 1\n",
      "[Merging 1 of 1] 00% -- (num pairs processed: 273) -- merged pairs: 1\n",
      "\n",
      "[Merging 1 of 1] 00% -- (num pairs processed: 70) -- merged pairs: 1\n",
      "\n",
      "[Merging 1 of 1] 00% -- (num pairs processed: 381) -- merged pairs: 1\n",
      "\n",
      "[Merging 1 of 1] 00% -- (num pairs processed: 232) -- merged pairs: 1\n",
      "\n",
      "\n",
      "\n",
      "\n",
      "\n",
      "\n",
      "[Merging 1 of 1] 00% -- (num pairs processed: 125) -- merged pairs: 1\n",
      "[Merging 1 of 1] 00% -- (num pairs processed: 321) -- merged pairs: 1\n",
      "[Merging 1 of 1] 00% -- (num pairs processed: 374) -- merged pairs: 1\n",
      "[Merging 1 of 1] 00% -- (num pairs processed: 526) -- merged pairs: 1\n",
      "\n",
      "\n",
      "[Merging 1 of 1] 00% -- (num pairs processed: 35) -- merged pairs: 1\n",
      "\n",
      "\n",
      "\n",
      "\n",
      "[Merging 1 of 1] 149% -- (num pairs processed: 1,000) -- merged pairs: 1\n",
      "\n",
      "\n",
      "[Merging 1 of 1] 48% -- (num pairs processed: 1,000) -- merged pairs: 1\n",
      "[Merging 1 of 1] 42% -- (num pairs processed: 1,000) -- merged pairs: 1\n",
      "\n",
      "[Merging 1 of 1] 00% -- (num pairs processed: 618) -- merged pairs: 1\n",
      "\n",
      "[Merging 1 of 1] 00% -- (num pairs processed: 87) -- merged pairs: 1\n",
      "\n",
      "\n",
      "[Merging 1 of 1] 00% -- (num pairs processed: 181) -- merged pairs: 1\n",
      "[Merging 1 of 1] 00% -- (num pairs processed: 172) -- merged pairs: 1\n",
      "\n",
      "\n",
      "\n",
      "\n",
      "[Merging 1 of 1] 00% -- (num pairs processed: 126) -- merged pairs: 1\n",
      "\n",
      "[Merging 1 of 1] 00% -- (num pairs processed: 57) -- merged pairs: 1\n",
      "\n",
      "\n",
      "[Merging 1 of 1] 00% -- (num pairs processed: 35) -- merged pairs: 1\n",
      "\n",
      "\n",
      "\n",
      "[Merging 1 of 1] 01% -- (num pairs processed: 41) -- merged pairs: 1\n",
      "\n",
      "\n",
      "\n",
      "\n",
      "\n",
      "\n",
      "\n",
      "\n",
      "\n",
      "[Merging 1 of 1] 00% -- (num pairs processed: 3) -- merged pairs: 1\n",
      "[Merging 1 of 1] 00% -- (num pairs processed: 4) -- merged pairs: 1\n",
      "[Merging 1 of 1] 00% -- (num pairs processed: 4) -- merged pairs: 1\n",
      "[Merging 1 of 1] 00% -- (num pairs processed: 4) -- merged pairs: 1\n",
      "\n",
      "[Merging 1 of 1] 00% -- (num pairs processed: 2) -- merged pairs: 1\n",
      "[Merging 1 of 1] 00% -- (num pairs processed: 2) -- merged pairs: 1\n",
      "[Merging 1 of 1] 00% -- (num pairs processed: 2) -- merged pairs: 1\n",
      "\n",
      "[Merging 1 of 1] 01% -- (num pairs processed: 2) -- merged pairs: 1\n",
      "[Merging 1 of 1] 00% -- (num pairs processed: 2) -- merged pairs: 1\n",
      "\n",
      "\n",
      "\n",
      "\n",
      "\n",
      "\n",
      "\n",
      "\n",
      "\n",
      "\n",
      "\n",
      "\n",
      "\n",
      "\n",
      "\n",
      "\n",
      "\n",
      "\n",
      "\n"
     ]
    }
   ],
   "source": [
    "## merge cmd\n",
    "for item in `ls ./*.ini`\n",
    "do\n",
    "#     echo $item\n",
    "    iu-merge-pairs $item\n",
    "#     echo 'next'\n",
    "done"
   ]
  },
  {
   "cell_type": "code",
   "execution_count": 8,
   "metadata": {},
   "outputs": [
    {
     "name": "stdout",
     "output_type": "stream",
     "text": [
      "ls: *_MERGED: No such file or directory\n"
     ]
    },
    {
     "ename": "",
     "evalue": "1",
     "output_type": "error",
     "traceback": []
    }
   ],
   "source": [
    "\n",
    "ls  -allh *_MERGED"
   ]
  },
  {
   "cell_type": "code",
   "execution_count": null,
   "metadata": {},
   "outputs": [],
   "source": []
  }
 ],
 "metadata": {
  "kernelspec": {
   "display_name": "Bash",
   "language": "bash",
   "name": "bash"
  },
  "language_info": {
   "codemirror_mode": "shell",
   "file_extension": ".sh",
   "mimetype": "text/x-sh",
   "name": "bash"
  },
  "toc": {
   "base_numbering": 1,
   "nav_menu": {},
   "number_sections": true,
   "sideBar": true,
   "skip_h1_title": false,
   "title_cell": "Table of Contents",
   "title_sidebar": "Contents",
   "toc_cell": false,
   "toc_position": {},
   "toc_section_display": true,
   "toc_window_display": false
  }
 },
 "nbformat": 4,
 "nbformat_minor": 2
}
