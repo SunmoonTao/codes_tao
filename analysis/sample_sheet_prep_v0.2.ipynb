{
 "cells": [
  {
   "cell_type": "markdown",
   "metadata": {},
   "source": [
    "# to generate illumina nex and ht sample sheet with barcodes"
   ]
  },
  {
   "cell_type": "code",
   "execution_count": 60,
   "metadata": {},
   "outputs": [],
   "source": [
    "import matplotlib.pyplot as plt\n",
    "import numpy as np\n",
    "import pandas as pd\n",
    "from io import StringIO\n",
    "import os,pickle\n",
    "import csv\n",
    "import sys\n",
    "import glob\n",
    "from collections import OrderedDict,defaultdict,Counter\n",
    "import datetime\n",
    "%matplotlib inline \n",
    "\n",
    "import xlsxwriter\n",
    "from scipy import stats\n",
    "\n",
    "import seaborn as sns\n",
    "# from pandas.tools import plotting\n",
    "from matplotlib import pyplot as plt\n",
    "\n",
    "\n",
    "from Bio.Alphabet import generic_dna,generic_rna,generic_protein\n",
    "import primer3\n",
    "from Bio import SeqIO\n",
    "from Bio.Seq import Seq\n",
    "from Bio import Entrez\n",
    "import math\n",
    "import pysam\n",
    "\n"
   ]
  },
  {
   "cell_type": "code",
   "execution_count": 26,
   "metadata": {},
   "outputs": [],
   "source": [
    "def primer_loc(rows,cols):\n",
    "    locs=list()\n",
    "    for r5 in rows:\n",
    "        for c5 in cols:\n",
    "             locs.append(str(r5)+str(c5))\n",
    "    return locs"
   ]
  },
  {
   "cell_type": "code",
   "execution_count": 27,
   "metadata": {},
   "outputs": [],
   "source": [
    "### combine i5, i7 by rows: A:A; B:B....H:H\n",
    "def xbarcodes_pairs(rows_i5='ABCD',rows_i7='ABCD',cols_i5='5678',cols_i7='5678'):\n",
    "    barcodes_i5=primer_loc(rows_i5,cols_i5)\n",
    "    barcodes_i7=primer_loc(rows_i7,cols_i7)\n",
    "    xbarcodes_i5=list()\n",
    "    for j in barcodes_i5:\n",
    "        for i in range(len(cols_i7)):\n",
    "            xbarcodes_i5.append(j)\n",
    "    barcodes_pair=list(zip(xbarcodes_i5,barcodes_i7))\n",
    "    return barcodes_pair\n",
    "#     return xbarcodes_i5"
   ]
  },
  {
   "cell_type": "code",
   "execution_count": 2,
   "metadata": {},
   "outputs": [],
   "source": [
    "current_folder_path, current_folder_name = os.path.split(os.getcwd())\n"
   ]
  },
  {
   "cell_type": "code",
   "execution_count": 3,
   "metadata": {},
   "outputs": [
    {
     "name": "stdout",
     "output_type": "stream",
     "text": [
      "Successfully created the directory /Users/ltao/Projects/glioma/exp/190501/samples \n"
     ]
    }
   ],
   "source": [
    "# define the name of the directory to be created\n",
    "samples_folder = current_folder_path+'/samples'\n",
    "\n",
    "try:  \n",
    "    os.mkdir(samples_folder)\n",
    "except OSError:  \n",
    "    print (\"Creation of the directory %s failed\" % samples_folder)\n",
    "else:  \n",
    "    print (\"Successfully created the directory %s \" % samples_folder)"
   ]
  },
  {
   "cell_type": "code",
   "execution_count": 5,
   "metadata": {},
   "outputs": [],
   "source": [
    "# try:  \n",
    "#     os.rmdir(path)\n",
    "# except OSError:  \n",
    "#     print (\"Deletion of the directory %s failed\" % path)\n",
    "# else:  \n",
    "#     print (\"Successfully deleted the directory %s\" % path)"
   ]
  },
  {
   "cell_type": "code",
   "execution_count": 61,
   "metadata": {},
   "outputs": [],
   "source": [
    "pickle_name='sample_sheet.pickle'\n",
    "\n",
    "# out_pickle=pickle_path+pickle_name\n",
    "pickle_out = open(pickle_name,\"wb\")\n",
    "pickle.dump(sample_sheet, pickle_out)\n",
    "pickle_out.close()\n",
    "# # load\n",
    "# pickle_in = open(out_pickle,\"rb\")\n",
    "# scibc = pickle.load(pickle_in)\n"
   ]
  },
  {
   "cell_type": "code",
   "execution_count": 58,
   "metadata": {},
   "outputs": [],
   "source": [
    "## Setting Sample Sheet\n",
    "exp_name='glioma_sc_mda_mpcr'\n",
    "exp_date= str(datetime.datetime.today().date())\n",
    "read1_len=250\n",
    "read2_len=250\n",
    "# read1_len=150\n",
    "# read2_len=150"
   ]
  },
  {
   "cell_type": "code",
   "execution_count": 56,
   "metadata": {},
   "outputs": [],
   "source": [
    "# samplesheet_file='/Users/ltao/Projects/Data/miseq/nex/MS8001943-300V2.csv'\n",
    "# sample_sheet = pd.read_csv(samplesheet_file)\n",
    "# input_key = sample_sheet.iloc[[19]].values.tolist()[0]\n",
    "# sample_sheet.columns=input_key\n",
    "# sample_sheet=sample_sheet.drop([20])\n",
    "# sample_sheet.loc[2,'Sample_Name']=exp_name\n",
    "# sample_sheet.loc[3,'Sample_Name']=exp_date\n",
    "# sample_sheet.loc[11,'Sample_ID']=read1_len\n",
    "# sample_sheet.loc[12,'Sample_ID']=read2_len\n",
    "\n",
    "# sample_sheet"
   ]
  },
  {
   "cell_type": "code",
   "execution_count": 66,
   "metadata": {},
   "outputs": [],
   "source": [
    "sample_sheet_pickle = open(\"sample_sheet.pickle\",\"rb\")\n",
    "\n",
    "sample_sheet = pickle.load(sample_sheet_pickle)\n",
    "sample_sheet.loc[2,'Sample_Name']=exp_name\n",
    "sample_sheet.loc[3,'Sample_Name']=exp_date\n",
    "sample_sheet.loc[11,'Sample_ID']=read1_len\n",
    "sample_sheet.loc[12,'Sample_ID']=read2_len"
   ]
  },
  {
   "cell_type": "code",
   "execution_count": 32,
   "metadata": {},
   "outputs": [],
   "source": [
    "# ## get nexetra adaptors\n",
    "# sheets = pd.read_excel('/Users/ltao/Projects/Data/miseq/nex/Nextra-Ads.xlsx', sheet_name=None)\n",
    "# nexads=dict()\n",
    "# # for sheet_name, sheet in sheets.items():\n",
    "# #     print (sheet_name)\n",
    "# nex_i5=sheets[\"plate AD1-i5\"]\n",
    "# nex_i5.set_index('96 Well Columns', inplace=True)\n",
    "# nex_i7=sheets[\"plate Ad2 i7\"]\n",
    "# nex_i7.set_index('96 Well Columns', inplace=True)\n",
    "# layout_i5=sheets['layout_i5']\n",
    "# layout_i7=sheets['layout_i7']\n",
    "# nex_i5_dic=nex_i5.to_dict(orient=\"index\")\n",
    "# nex_i7_dic=nex_i7.to_dict(orient=\"index\")"
   ]
  },
  {
   "cell_type": "code",
   "execution_count": 71,
   "metadata": {},
   "outputs": [],
   "source": [
    "\n",
    "nex_i5_dic_pickle = open(\"nex_i5_dic.pickle\",\"rb\")\n",
    "nex_i5_dic = pickle.load(nex_i5_dic_pickle)\n",
    "\n",
    "nex_i7_dic_pickle = open(\"nex_i7_dic.pickle\",\"rb\")\n",
    "nex_i7_dic = pickle.load(nex_i7_dic_pickle)"
   ]
  },
  {
   "cell_type": "code",
   "execution_count": 69,
   "metadata": {},
   "outputs": [],
   "source": [
    "pickle_name='nex_i7_dic.pickle'\n",
    "\n",
    "# out_pickle=pickle_path+pickle_name\n",
    "pickle_out = open(pickle_name,\"wb\")\n",
    "pickle.dump(nex_i7_dic, pickle_out)\n",
    "pickle_out.close()\n",
    "# # load\n",
    "# pickle_in = open(out_pickle,\"rb\")\n",
    "# scibc = pickle.load(pickle_in)\n"
   ]
  },
  {
   "cell_type": "code",
   "execution_count": 28,
   "metadata": {},
   "outputs": [],
   "source": [
    "\n",
    "# non-dig-hcc38-0.7xbeads:\n",
    "\n",
    "# Ad1: col 11\n",
    "# Ad2:1-6\n",
    "\n",
    "\n",
    "rows_i5='ABCDEFGH'\n",
    "rows_i7='ABCDEFGH'\n",
    "cols_i5=[4,]\n",
    "cols_i7=[1,2]\n",
    "\n",
    "idh=xbarcodes_pairs(rows_i5 ,rows_i7 ,cols_i5 ,cols_i7)\n",
    "\n",
    "cols_i5=[4,]\n",
    "cols_i7=[3,4]\n",
    "# cols_i7=[7,8,9,10,11,12]\n",
    "\n",
    "g_5x=xbarcodes_pairs(rows_i5 ,rows_i7 ,cols_i5 ,cols_i7)\n",
    "\n",
    "cols_i5=[4,]\n",
    "cols_i7=[5,6]\n",
    "\n",
    "g_17x_a=xbarcodes_pairs(rows_i5 ,rows_i7 ,cols_i5 ,cols_i7)\n",
    "\n",
    "cols_i5=[5,]\n",
    "cols_i7=[7,]\n",
    "\n",
    "g_17x_b=xbarcodes_pairs(rows_i5 ,rows_i7 ,cols_i5 ,cols_i7)\n",
    "g_17x =g_17x_b+g_17x_a\n",
    "\n",
    "cols_i5=[5,]\n",
    "cols_i7=[8]\n",
    "hcc38_g_17x_q5=xbarcodes_pairs(rows_i5 ,rows_i7 ,cols_i5 ,cols_i7)\n",
    "\n",
    "cols_i5=[5,]\n",
    "cols_i7=[9,10]\n",
    "\n",
    "g_17x_q5=xbarcodes_pairs(rows_i5 ,rows_i7 ,cols_i5 ,cols_i7)\n",
    "\n"
   ]
  },
  {
   "cell_type": "code",
   "execution_count": 34,
   "metadata": {},
   "outputs": [
    {
     "name": "stdout",
     "output_type": "stream",
     "text": [
      "NovaSeq, MiSeq, HiSeq 2000/2500 == four_color, \n",
      " MiniSeq, NextSeq, HiSeq 3000/4000 == two_color, \n",
      " what is your run? \n",
      " pls input 2 or 4\n",
      "4\n",
      "your run is ###four_color###\n"
     ]
    }
   ],
   "source": [
    "### chose runtype\n",
    "color = int(input(\"NovaSeq, MiSeq, HiSeq 2000/2500 == four_color, \\n MiniSeq, NextSeq, HiSeq 3000/4000 == two_color, \\n what is your run? \\n pls input 2 or 4\\n\"))\n",
    "\n",
    "if color == 4:\n",
    "    runtype =\"four_color\"\n",
    "    print (\"your run is ###four_color###\")\n",
    "elif color == 2:\n",
    "    runtype =\"two_color\"\n",
    "    print (\"your run is ###two_color###\")\n",
    "else:\n",
    "    print ('pls define your runtype, 2 or 4')"
   ]
  },
  {
   "cell_type": "code",
   "execution_count": 42,
   "metadata": {},
   "outputs": [],
   "source": [
    "input_bp=OrderedDict()\n",
    "\n",
    "## for NovaSeq, MiSeq, HiSeq 2000/2500, \n",
    "for plate,bps in {\"idh\":idh,\"g_5x\":g_5x,\"g_17x\":g_17x,\"hcc38_pbs\":hcc38_g_17x_q5,\"g_17x_q5\":g_17x_q5}.items():\n",
    "    for bp in bps:\n",
    "        samples_input_dict=OrderedDict()\n",
    "        if runtype == \"four_color\":\n",
    "            i5_barcodes = nex_i5_dic[bp[0]]['i5 Bases for Sample Sheet NovaSeq, MiSeq, HiSeq 2000/2500\\xa0']\n",
    "        else:\n",
    "            i5_barcodes = nex_i5_dic[bp[0]]['i5 Bases for Sample Sheet MiniSeq, NextSeq, HiSeq 3000/4000 ']\n",
    "\n",
    "        i7_barcodes = nex_i7_dic[bp[1]]['on Sample Sheet']\n",
    "        for k in input_key:\n",
    "            samples_input_dict[k] = 'i7_'+bp[1]+'_i5_'+bp[0]\n",
    "        samples_input_dict['index2'] =i5_barcodes\n",
    "        samples_input_dict['index'] =i7_barcodes\n",
    "        samples_input_dict['Sample_Plate'] = plate\n",
    "        input_bp['i7_'+bp[1]+'_i5_'+bp[0]]=samples_input_dict\n"
   ]
  },
  {
   "cell_type": "code",
   "execution_count": null,
   "metadata": {},
   "outputs": [],
   "source": [
    "# barcodes_file=samples_folder+'/barcodes.xlsx'\n",
    "\n",
    "# input_bp_df=pd.DataFrame.from_dict(input_bp, orient='index')\n",
    "# input_bp_df.to_excel(barcodes_file)"
   ]
  },
  {
   "cell_type": "code",
   "execution_count": 45,
   "metadata": {},
   "outputs": [],
   "source": [
    "# runsample_sheet=samples_folder+'/runsample_sheet.csv'\n",
    "\n",
    "input_bp_df=pd.DataFrame.from_dict(input_bp, orient='index')\n",
    "result = sample_sheet.append(input_bp_df)\n",
    "# result.to_csv(runsample_sheet,header=False, index=False)\n",
    "result.to_csv(\"runsample_sheet.csv\",header=False, index=False)"
   ]
  },
  {
   "cell_type": "code",
   "execution_count": null,
   "metadata": {},
   "outputs": [],
   "source": []
  },
  {
   "cell_type": "code",
   "execution_count": null,
   "metadata": {},
   "outputs": [],
   "source": []
  },
  {
   "cell_type": "code",
   "execution_count": null,
   "metadata": {},
   "outputs": [],
   "source": []
  },
  {
   "cell_type": "code",
   "execution_count": null,
   "metadata": {},
   "outputs": [],
   "source": []
  },
  {
   "cell_type": "markdown",
   "metadata": {},
   "source": [
    "### Prepare all fastqs by shell in merge_script\n"
   ]
  },
  {
   "cell_type": "code",
   "execution_count": 17,
   "metadata": {},
   "outputs": [],
   "source": [
    "fastqs_folder=current_folder_path+'/fastqs/'\n",
    "os.mkdir(fastqs_folder)"
   ]
  },
  {
   "cell_type": "code",
   "execution_count": 17,
   "metadata": {},
   "outputs": [],
   "source": [
    "# fastqs_folder=current_folder_path+'/fastqs/'\n",
    "# os.mkdir(fastqs_folder)\n",
    "merge_next_file=fastqs_folder+\"merge_nex.txt\"\n",
    "# prepare merge config files\n",
    "fastqs=list()\n",
    "for x in os.listdir(fastqs_folder):\n",
    "    if 'fastq' in x:\n",
    "        fastqs.append(x)\n",
    "fastqs=sorted(fastqs\n",
    "             )\n",
    "merge_key=['sample','r1','r2']\n",
    "merge_nex=OrderedDict()\n",
    "\n",
    "for x in zip(fastqs[::2],fastqs[1::2]):\n",
    "    pe_reads=dict()\n",
    "    sindex=x[0].index('_S')\n",
    "    name=x[0][:sindex]\n",
    "#     print (name)\n",
    "    mk=input_bp[name][\"Sample_Plate\"]+\"_\"+name\n",
    "    pe_reads['sample']=mk\n",
    "    pe_reads ['r1']=x[0]\n",
    "    pe_reads['r2']=x[1]\n",
    "    merge_nex[mk]=pe_reads\n",
    "df_merge_nex=pd.DataFrame.from_dict(merge_nex, orient='index')\n",
    "df_merge_nex.to_csv(merge_next_file,sep=\"\\t\")  \n",
    "# merge_nex"
   ]
  },
  {
   "cell_type": "code",
   "execution_count": 4,
   "metadata": {},
   "outputs": [],
   "source": [
    "fastqs_folder=current_folder_path+'/fastqs/'\n"
   ]
  }
 ],
 "metadata": {
  "kernelspec": {
   "display_name": "Python 3",
   "language": "python",
   "name": "python3"
  },
  "language_info": {
   "codemirror_mode": {
    "name": "ipython",
    "version": 3
   },
   "file_extension": ".py",
   "mimetype": "text/x-python",
   "name": "python",
   "nbconvert_exporter": "python",
   "pygments_lexer": "ipython3",
   "version": "3.7.3"
  },
  "toc": {
   "base_numbering": 1,
   "nav_menu": {},
   "number_sections": true,
   "sideBar": true,
   "skip_h1_title": false,
   "title_cell": "Table of Contents",
   "title_sidebar": "Contents",
   "toc_cell": false,
   "toc_position": {},
   "toc_section_display": true,
   "toc_window_display": false
  }
 },
 "nbformat": 4,
 "nbformat_minor": 2
}
